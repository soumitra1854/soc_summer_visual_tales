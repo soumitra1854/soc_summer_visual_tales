{
  "nbformat": 4,
  "nbformat_minor": 0,
  "metadata": {
    "colab": {
      "provenance": [],
      "gpuType": "T4",
      "authorship_tag": "ABX9TyOL+qxaWNtOesRWM+dXQ532",
      "include_colab_link": true
    },
    "kernelspec": {
      "name": "python3",
      "display_name": "Python 3"
    },
    "language_info": {
      "name": "python"
    },
    "accelerator": "GPU"
  },
  "cells": [
    {
      "cell_type": "markdown",
      "metadata": {
        "id": "view-in-github",
        "colab_type": "text"
      },
      "source": [
        "<a href=\"https://colab.research.google.com/github/soumitra1854/soc_summer_visual_tales/blob/main/Assignment_3_part2.ipynb\" target=\"_parent\"><img src=\"https://colab.research.google.com/assets/colab-badge.svg\" alt=\"Open In Colab\"/></a>"
      ]
    },
    {
      "cell_type": "code",
      "execution_count": 1,
      "metadata": {
        "id": "EZ1QZ_6fbUNi"
      },
      "outputs": [],
      "source": [
        "import tensorflow as tf\n",
        "from tensorflow.keras import layers, models\n",
        "from tensorflow.keras.applications import VGG16\n",
        "from tensorflow.keras.datasets import cifar10\n",
        "from tensorflow.keras.utils import to_categorical\n",
        "import numpy as np\n",
        "import matplotlib.pyplot as plt"
      ]
    },
    {
      "cell_type": "code",
      "source": [
        "# Load CIFAR-10 dataset\n",
        "(train_images, train_labels), (test_images, test_labels) = cifar10.load_data()\n",
        "\n",
        "# Normalize pixel values to be between 0 and 1\n",
        "train_images, test_images = train_images / 255.0, test_images / 255.0\n",
        "\n",
        "# One-hot encode the labels\n",
        "train_labels = to_categorical(train_labels)\n",
        "test_labels = to_categorical(test_labels)\n"
      ],
      "metadata": {
        "colab": {
          "base_uri": "https://localhost:8080/"
        },
        "id": "mkPFmAFGbd6R",
        "outputId": "f73c5ad3-c4d6-4c2a-a90b-f929881f8a01"
      },
      "execution_count": 2,
      "outputs": [
        {
          "output_type": "stream",
          "name": "stdout",
          "text": [
            "Downloading data from https://www.cs.toronto.edu/~kriz/cifar-10-python.tar.gz\n",
            "170498071/170498071 [==============================] - 4s 0us/step\n"
          ]
        }
      ]
    },
    {
      "cell_type": "code",
      "source": [
        "# Load the VGG16 model pre-trained on ImageNet, excluding the top layers\n",
        "base_model = VGG16(weights='imagenet', include_top=False, input_shape=(32, 32, 3))\n",
        "\n",
        "# Freeze the layers of the base model\n",
        "for layer in base_model.layers:\n",
        "    layer.trainable = False\n",
        "\n",
        "# Create the model\n",
        "model = models.Sequential()\n",
        "model.add(base_model)\n",
        "model.add(layers.Flatten())\n",
        "model.add(layers.Dense(512, activation='relu'))\n",
        "model.add(layers.Dropout(0.5))\n",
        "model.add(layers.Dense(256, activation='relu'))\n",
        "model.add(layers.Dropout(0.5))\n",
        "model.add(layers.Dense(10, activation='softmax'))\n",
        "\n",
        "# Compile the model\n",
        "model.compile(optimizer='adam', loss='categorical_crossentropy', metrics=['accuracy'])\n",
        "\n",
        "model.summary()\n"
      ],
      "metadata": {
        "colab": {
          "base_uri": "https://localhost:8080/"
        },
        "id": "r6xmDQ6YbpJ8",
        "outputId": "253ef5c8-afa4-447e-d913-647b8e6287db"
      },
      "execution_count": 3,
      "outputs": [
        {
          "output_type": "stream",
          "name": "stdout",
          "text": [
            "Downloading data from https://storage.googleapis.com/tensorflow/keras-applications/vgg16/vgg16_weights_tf_dim_ordering_tf_kernels_notop.h5\n",
            "58889256/58889256 [==============================] - 0s 0us/step\n",
            "Model: \"sequential\"\n",
            "_________________________________________________________________\n",
            " Layer (type)                Output Shape              Param #   \n",
            "=================================================================\n",
            " vgg16 (Functional)          (None, 1, 1, 512)         14714688  \n",
            "                                                                 \n",
            " flatten (Flatten)           (None, 512)               0         \n",
            "                                                                 \n",
            " dense (Dense)               (None, 512)               262656    \n",
            "                                                                 \n",
            " dropout (Dropout)           (None, 512)               0         \n",
            "                                                                 \n",
            " dense_1 (Dense)             (None, 256)               131328    \n",
            "                                                                 \n",
            " dropout_1 (Dropout)         (None, 256)               0         \n",
            "                                                                 \n",
            " dense_2 (Dense)             (None, 10)                2570      \n",
            "                                                                 \n",
            "=================================================================\n",
            "Total params: 15111242 (57.64 MB)\n",
            "Trainable params: 396554 (1.51 MB)\n",
            "Non-trainable params: 14714688 (56.13 MB)\n",
            "_________________________________________________________________\n"
          ]
        }
      ]
    },
    {
      "cell_type": "code",
      "source": [
        "# Split the training data into training and validation sets (80:20 ratio)\n",
        "val_split = 0.2\n",
        "num_val_samples = int(val_split * train_images.shape[0])\n",
        "\n",
        "train_images, val_images = train_images[:-num_val_samples], train_images[-num_val_samples:]\n",
        "train_labels, val_labels = train_labels[:-num_val_samples], train_labels[-num_val_samples:]\n"
      ],
      "metadata": {
        "id": "NgyeIEB5bwKV"
      },
      "execution_count": 4,
      "outputs": []
    },
    {
      "cell_type": "code",
      "source": [
        "# Train the model\n",
        "history = model.fit(\n",
        "    train_images, train_labels,\n",
        "    epochs=20,\n",
        "    batch_size=64,\n",
        "    validation_data=(val_images, val_labels)\n",
        ")"
      ],
      "metadata": {
        "colab": {
          "base_uri": "https://localhost:8080/"
        },
        "id": "1fRTXVUMb00h",
        "outputId": "e0338a97-4c46-4aae-8565-f9c495229793"
      },
      "execution_count": 5,
      "outputs": [
        {
          "output_type": "stream",
          "name": "stdout",
          "text": [
            "Epoch 1/20\n",
            "625/625 [==============================] - 16s 15ms/step - loss: 1.6099 - accuracy: 0.4308 - val_loss: 1.3052 - val_accuracy: 0.5340\n",
            "Epoch 2/20\n",
            "625/625 [==============================] - 8s 12ms/step - loss: 1.3745 - accuracy: 0.5192 - val_loss: 1.2524 - val_accuracy: 0.5617\n",
            "Epoch 3/20\n",
            "625/625 [==============================] - 8s 13ms/step - loss: 1.3087 - accuracy: 0.5452 - val_loss: 1.2274 - val_accuracy: 0.5717\n",
            "Epoch 4/20\n",
            "625/625 [==============================] - 9s 14ms/step - loss: 1.2605 - accuracy: 0.5585 - val_loss: 1.1853 - val_accuracy: 0.5865\n",
            "Epoch 5/20\n",
            "625/625 [==============================] - 8s 13ms/step - loss: 1.2295 - accuracy: 0.5724 - val_loss: 1.1637 - val_accuracy: 0.5987\n",
            "Epoch 6/20\n",
            "625/625 [==============================] - 8s 13ms/step - loss: 1.2067 - accuracy: 0.5818 - val_loss: 1.1600 - val_accuracy: 0.5970\n",
            "Epoch 7/20\n",
            "625/625 [==============================] - 9s 14ms/step - loss: 1.1811 - accuracy: 0.5896 - val_loss: 1.1397 - val_accuracy: 0.6018\n",
            "Epoch 8/20\n",
            "625/625 [==============================] - 8s 12ms/step - loss: 1.1660 - accuracy: 0.5932 - val_loss: 1.1447 - val_accuracy: 0.6005\n",
            "Epoch 9/20\n",
            "625/625 [==============================] - 8s 13ms/step - loss: 1.1440 - accuracy: 0.6005 - val_loss: 1.1242 - val_accuracy: 0.6121\n",
            "Epoch 10/20\n",
            "625/625 [==============================] - 9s 14ms/step - loss: 1.1323 - accuracy: 0.6060 - val_loss: 1.1172 - val_accuracy: 0.6127\n",
            "Epoch 11/20\n",
            "625/625 [==============================] - 9s 14ms/step - loss: 1.1105 - accuracy: 0.6130 - val_loss: 1.1229 - val_accuracy: 0.6087\n",
            "Epoch 12/20\n",
            "625/625 [==============================] - 8s 13ms/step - loss: 1.0938 - accuracy: 0.6174 - val_loss: 1.1143 - val_accuracy: 0.6153\n",
            "Epoch 13/20\n",
            "625/625 [==============================] - 8s 13ms/step - loss: 1.0815 - accuracy: 0.6227 - val_loss: 1.0997 - val_accuracy: 0.6194\n",
            "Epoch 14/20\n",
            "625/625 [==============================] - 9s 14ms/step - loss: 1.0707 - accuracy: 0.6232 - val_loss: 1.1074 - val_accuracy: 0.6196\n",
            "Epoch 15/20\n",
            "625/625 [==============================] - 9s 15ms/step - loss: 1.0569 - accuracy: 0.6327 - val_loss: 1.0963 - val_accuracy: 0.6163\n",
            "Epoch 16/20\n",
            "625/625 [==============================] - 9s 15ms/step - loss: 1.0484 - accuracy: 0.6328 - val_loss: 1.0974 - val_accuracy: 0.6190\n",
            "Epoch 17/20\n",
            "625/625 [==============================] - 9s 14ms/step - loss: 1.0343 - accuracy: 0.6380 - val_loss: 1.1124 - val_accuracy: 0.6183\n",
            "Epoch 18/20\n",
            "625/625 [==============================] - 9s 14ms/step - loss: 1.0298 - accuracy: 0.6398 - val_loss: 1.1013 - val_accuracy: 0.6250\n",
            "Epoch 19/20\n",
            "625/625 [==============================] - 8s 13ms/step - loss: 1.0129 - accuracy: 0.6467 - val_loss: 1.1040 - val_accuracy: 0.6227\n",
            "Epoch 20/20\n",
            "625/625 [==============================] - 9s 15ms/step - loss: 1.0023 - accuracy: 0.6491 - val_loss: 1.0934 - val_accuracy: 0.6289\n"
          ]
        }
      ]
    },
    {
      "cell_type": "code",
      "source": [
        "# Evaluate the model on the test set\n",
        "test_loss, test_acc = model.evaluate(test_images, test_labels)\n",
        "print(f\"Test accuracy: {test_acc:.4f}\")\n"
      ],
      "metadata": {
        "id": "lpDUaAYrgQSz",
        "outputId": "fea44309-0411-4909-ca95-197d9637bf37",
        "colab": {
          "base_uri": "https://localhost:8080/"
        }
      },
      "execution_count": 6,
      "outputs": [
        {
          "output_type": "stream",
          "name": "stdout",
          "text": [
            "313/313 [==============================] - 3s 8ms/step - loss: 1.0939 - accuracy: 0.6215\n",
            "Test accuracy: 0.6215\n"
          ]
        }
      ]
    },
    {
      "cell_type": "code",
      "source": [
        "# Get predictions for the test images\n",
        "predictions = model.predict(test_images)\n",
        "\n",
        "# Define a function to plot images along with actual and predicted labels\n",
        "def plot_image(i, predictions_array, true_label, img):\n",
        "    predictions_array, true_label, img = predictions_array[i], np.argmax(true_label[i]), img[i]\n",
        "    plt.grid(False)\n",
        "    plt.xticks([])\n",
        "    plt.yticks([])\n",
        "    plt.imshow(img, cmap=plt.cm.binary)\n",
        "\n",
        "    predicted_label = np.argmax(predictions_array)\n",
        "    if predicted_label == true_label:\n",
        "        color = 'blue'\n",
        "    else:\n",
        "        color = 'red'\n",
        "\n",
        "    plt.xlabel(f\"{predicted_label} ({100*np.max(predictions_array):2.0f}%) ({true_label})\", color=color)\n",
        "\n",
        "# Plot a few test images along with predicted and actual labels\n",
        "num_images = 5\n",
        "plt.figure(figsize=(10, 10))\n",
        "for i in range(num_images):\n",
        "    plt.subplot(5, 1, i + 1)\n",
        "    plot_image(i, predictions, test_labels, test_images)\n",
        "plt.tight_layout()\n",
        "plt.show()\n"
      ],
      "metadata": {
        "colab": {
          "base_uri": "https://localhost:8080/",
          "height": 1000
        },
        "id": "nNc7dnS2b4Xm",
        "outputId": "b2e62f2c-e36d-4c63-da1e-e00241097026"
      },
      "execution_count": 7,
      "outputs": [
        {
          "output_type": "stream",
          "name": "stdout",
          "text": [
            "313/313 [==============================] - 5s 13ms/step\n"
          ]
        },
        {
          "output_type": "display_data",
          "data": {
            "text/plain": [
              "<Figure size 1000x1000 with 5 Axes>"
            ],
            "image/png": "[encoded data removed]"
          },
          "metadata": {}
        }
      ]
    }
  ]
}